{
 "cells": [
  {
   "cell_type": "markdown",
   "metadata": {},
   "source": [
    "## SalesForce Training\n",
    "Studi kasus: Perusahaan X bermaksud meningkatkan penjualan produk. Berdasarkan data penjualan sebelumnya, diketahui penjualan rata-rata sebesar $100 per transaksi."
   ]
  },
  {
   "cell_type": "code",
   "execution_count": 1,
   "metadata": {},
   "outputs": [],
   "source": [
    "import pandas as pd\n",
    "import numpy as np\n",
    "from scipy import stats"
   ]
  },
  {
   "cell_type": "markdown",
   "metadata": {},
   "source": [
    "**Create DataFrame**\n",
    "<br>\n",
    "Perusahaan melakukan training kepada para pekerja sales dan diperoleh data penjualan terbaru (dari 25 sampel pekerja sales) sebagai berikut"
   ]
  },
  {
   "cell_type": "code",
   "execution_count": 2,
   "metadata": {},
   "outputs": [
    {
     "data": {
      "text/html": [
       "<div>\n",
       "<style scoped>\n",
       "    .dataframe tbody tr th:only-of-type {\n",
       "        vertical-align: middle;\n",
       "    }\n",
       "\n",
       "    .dataframe tbody tr th {\n",
       "        vertical-align: top;\n",
       "    }\n",
       "\n",
       "    .dataframe thead th {\n",
       "        text-align: right;\n",
       "    }\n",
       "</style>\n",
       "<table border=\"1\" class=\"dataframe\">\n",
       "  <thead>\n",
       "    <tr style=\"text-align: right;\">\n",
       "      <th></th>\n",
       "      <th>Transaction_amount</th>\n",
       "    </tr>\n",
       "  </thead>\n",
       "  <tbody>\n",
       "    <tr>\n",
       "      <th>0</th>\n",
       "      <td>100</td>\n",
       "    </tr>\n",
       "    <tr>\n",
       "      <th>1</th>\n",
       "      <td>150</td>\n",
       "    </tr>\n",
       "    <tr>\n",
       "      <th>2</th>\n",
       "      <td>50</td>\n",
       "    </tr>\n",
       "    <tr>\n",
       "      <th>3</th>\n",
       "      <td>100</td>\n",
       "    </tr>\n",
       "    <tr>\n",
       "      <th>4</th>\n",
       "      <td>130</td>\n",
       "    </tr>\n",
       "  </tbody>\n",
       "</table>\n",
       "</div>"
      ],
      "text/plain": [
       "   Transaction_amount\n",
       "0                 100\n",
       "1                 150\n",
       "2                  50\n",
       "3                 100\n",
       "4                 130"
      ]
     },
     "execution_count": 2,
     "metadata": {},
     "output_type": "execute_result"
    }
   ],
   "source": [
    "# Create DataFrame\n",
    "df = pd.DataFrame({\"Transaction_amount\" : [\n",
    "    100, 150, 50, 100, 130, 120, 100, 85, 70, 150, 150, 120, 50, 100, 100, 140, 90, 150, 50, 90, 120, 100, 110, 75, 65\n",
    "]})\n",
    "\n",
    "df.head()"
   ]
  },
  {
   "cell_type": "code",
   "execution_count": 3,
   "metadata": {},
   "outputs": [
    {
     "data": {
      "text/html": [
       "<div>\n",
       "<style scoped>\n",
       "    .dataframe tbody tr th:only-of-type {\n",
       "        vertical-align: middle;\n",
       "    }\n",
       "\n",
       "    .dataframe tbody tr th {\n",
       "        vertical-align: top;\n",
       "    }\n",
       "\n",
       "    .dataframe thead th {\n",
       "        text-align: right;\n",
       "    }\n",
       "</style>\n",
       "<table border=\"1\" class=\"dataframe\">\n",
       "  <thead>\n",
       "    <tr style=\"text-align: right;\">\n",
       "      <th></th>\n",
       "      <th>Transaction_amount</th>\n",
       "    </tr>\n",
       "  </thead>\n",
       "  <tbody>\n",
       "    <tr>\n",
       "      <th>20</th>\n",
       "      <td>120</td>\n",
       "    </tr>\n",
       "    <tr>\n",
       "      <th>21</th>\n",
       "      <td>100</td>\n",
       "    </tr>\n",
       "    <tr>\n",
       "      <th>22</th>\n",
       "      <td>110</td>\n",
       "    </tr>\n",
       "    <tr>\n",
       "      <th>23</th>\n",
       "      <td>75</td>\n",
       "    </tr>\n",
       "    <tr>\n",
       "      <th>24</th>\n",
       "      <td>65</td>\n",
       "    </tr>\n",
       "  </tbody>\n",
       "</table>\n",
       "</div>"
      ],
      "text/plain": [
       "    Transaction_amount\n",
       "20                 120\n",
       "21                 100\n",
       "22                 110\n",
       "23                  75\n",
       "24                  65"
      ]
     },
     "execution_count": 3,
     "metadata": {},
     "output_type": "execute_result"
    }
   ],
   "source": [
    "df.tail()"
   ]
  },
  {
   "cell_type": "markdown",
   "metadata": {},
   "source": [
    "### Measure of Central Tendency Analysis"
   ]
  },
  {
   "cell_type": "code",
   "execution_count": 4,
   "metadata": {},
   "outputs": [
    {
     "name": "stdout",
     "output_type": "stream",
     "text": [
      "Mean = 102.6\n",
      "Median = 100.0\n",
      "Mode = 100\n"
     ]
    }
   ],
   "source": [
    "transaction_amount = df[\"Transaction_amount\"]\n",
    "\n",
    "# Central Tendency\n",
    "print(\"Mean =\", transaction_amount.mean())\n",
    "print(\"Median =\", transaction_amount.median())\n",
    "print(\"Mode =\", transaction_amount.mode()[0])"
   ]
  },
  {
   "cell_type": "markdown",
   "metadata": {},
   "source": [
    "### Variability Analysis"
   ]
  },
  {
   "cell_type": "code",
   "execution_count": 5,
   "metadata": {},
   "outputs": [
    {
     "name": "stdout",
     "output_type": "stream",
     "text": [
      "Variance = 972.2399999999997\n",
      "Standard Deviation = 31.180763300471007\n",
      "Minimum = 50\n",
      "Maximum = 150\n",
      "Range = 100\n",
      "Quartile 1 = 85.0\n",
      "Quartile 2 = 100.0\n",
      "Quartile 3 = 120.0\n"
     ]
    }
   ],
   "source": [
    "# Variability\n",
    "print(\"Variance =\", np.var(transaction_amount))\n",
    "print(\"Standard Deviation =\", np.std(transaction_amount))\n",
    "print(\"Minimum =\", np.min(transaction_amount))\n",
    "print(\"Maximum =\", np.max(transaction_amount))\n",
    "print(\"Range =\", (np.max(transaction_amount) - np.min(transaction_amount)))\n",
    "print(\"Quartile 1 =\", np.quantile(transaction_amount, 0.25))\n",
    "print(\"Quartile 2 =\", np.quantile(transaction_amount, 0.5))\n",
    "print(\"Quartile 3 =\", np.quantile(transaction_amount, 0.75))"
   ]
  },
  {
   "cell_type": "markdown",
   "metadata": {},
   "source": [
    "Dari hasil analisis variability di atas, diperoleh nilai variansi data yang cukup besar (nilai variance mendekati 1000). Diperoleh juga nilai quartil 1 = 85 dan quartil 3 = 120 yang menunjukkan bahwa sebagian besar nilai data terkonsentrasi dalam rentang nilai 85 hingga 120. \n",
    "\n",
    "### Define Hypotesis H0 and H1, and alpha\n",
    "* **H0**: Penjualan rata-rata = 100 per transaksi setelah dilakukan training kepada pekerja sales\n",
    "* **H1**: Penjualan rata-rata > 100 per transaksi setelah dilakukan training kepada pekerja sales\n",
    "* **alpha**: 5%"
   ]
  },
  {
   "cell_type": "code",
   "execution_count": 6,
   "metadata": {},
   "outputs": [
    {
     "name": "stdout",
     "output_type": "stream",
     "text": [
      "t_test = 0.4085001556802841\n",
      "P-value = 0.6865284813438117\n"
     ]
    }
   ],
   "source": [
    "alpha = 0.05\n",
    "\n",
    "# Calculate T-test and P-value\n",
    "t_test, p_value = stats.ttest_1samp(a=transaction_amount, popmean=100)\n",
    "print(\"t_test =\", t_test)\n",
    "print(\"P-value =\", p_value)"
   ]
  },
  {
   "cell_type": "markdown",
   "metadata": {},
   "source": [
    "Dari hasil nilai T-test dan P-value yang diperoleh, nilai P-value = 0,68 lebih besar daripada nilai alpha = 5% (0,05). Sehingga, gagal menolak H0: Training terhadap pekerja sales tidak memberikan pengaruh berarti, rata-rata jumlah transaksi masih di sekitaran 100.\n",
    "\n",
    "Menentukan Critical Region"
   ]
  },
  {
   "cell_type": "code",
   "execution_count": 7,
   "metadata": {},
   "outputs": [
    {
     "name": "stdout",
     "output_type": "stream",
     "text": [
      "Critical Value = 1.7108820799094275\n"
     ]
    }
   ],
   "source": [
    "print(\"Critical Value =\", stats.t.ppf(1-alpha, 24))"
   ]
  },
  {
   "cell_type": "markdown",
   "metadata": {},
   "source": [
    "Dari hasil pengujian t, diperoleh bahwa nilai T-test berada di luar nilai Critical (Critical Region : t > 1.71), sehingga gagal menolak H0\n",
    "\n",
    "**Kesimpulan**: Training pada pekerja sales belum mampu meningkatkan penjualan rata-rata, rata-rata transaksi penjualan masih di sekitaran 100"
   ]
  },
  {
   "cell_type": "code",
   "execution_count": null,
   "metadata": {},
   "outputs": [],
   "source": []
  }
 ],
 "metadata": {
  "kernelspec": {
   "display_name": "raka_env",
   "language": "python",
   "name": "python3"
  },
  "language_info": {
   "codemirror_mode": {
    "name": "ipython",
    "version": 3
   },
   "file_extension": ".py",
   "mimetype": "text/x-python",
   "name": "python",
   "nbconvert_exporter": "python",
   "pygments_lexer": "ipython3",
   "version": "3.10.13"
  }
 },
 "nbformat": 4,
 "nbformat_minor": 2
}
